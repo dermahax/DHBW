{
 "cells": [
  {
   "cell_type": "markdown",
   "id": "7271635b",
   "metadata": {},
   "source": [
    "### Functions"
   ]
  },
  {
   "cell_type": "markdown",
   "id": "6a44fb4d",
   "metadata": {},
   "source": [
    "Most important things to know about functions:\n",
    "- **Docstrings**: String that describes what the function does and its parameters and return values. \n",
    "    - @brief\n",
    "    - Inputs\n",
    "    - Return\n",
    "- **Positional and optional arruments**: positional arguments must be passed when calling the functions. Optionals can optionally."
   ]
  },
  {
   "cell_type": "code",
   "execution_count": null,
   "id": "71445b75",
   "metadata": {},
   "outputs": [],
   "source": [
    "# Example\n",
    "\n",
    "def square(n, print_string = True):\n",
    "    '''\n",
    "    @brief: Squares the input, optionally prints the result\n",
    "    \n",
    "    Inputs:\n",
    "        n int\n",
    "            The number to be squared\n",
    "        print_string bool\n",
    "            If set to true, the result will be printed nicely.\n",
    "        \n",
    "    Returns:\n",
    "        n_squared: int\n",
    "            the squared of n.\n",
    "    '''\n",
    "    n_squared = n**2\n",
    "    if print_string: print(f'The square of {n} is {n_squared}')\n",
    "    return n_squared\n",
    "    "
   ]
  },
  {
   "cell_type": "code",
   "execution_count": null,
   "id": "fe5257e5",
   "metadata": {},
   "outputs": [],
   "source": [
    "# in jupyter lab, press shit+ tab to get the docs of an object, when its marked\n",
    "square(4)\n",
    "square(9, print_string=False)"
   ]
  },
  {
   "cell_type": "markdown",
   "id": "aa42a38b",
   "metadata": {},
   "source": [
    "### Task"
   ]
  },
  {
   "cell_type": "markdown",
   "id": "82e10f5b",
   "metadata": {},
   "source": [
    "Write a function, that adds up all numbers up to the one given in the argument.   \n",
    "Write a docstring.   \n",
    "Include an optional argument whether to print a string.  \n",
    "Check if your docstring is shown when pressing shift + tab once the function is defined."
   ]
  }
 ],
 "metadata": {
  "kernelspec": {
   "display_name": "Python 3 (ipykernel)",
   "language": "python",
   "name": "python3"
  },
  "language_info": {
   "codemirror_mode": {
    "name": "ipython",
    "version": 3
   },
   "file_extension": ".py",
   "mimetype": "text/x-python",
   "name": "python",
   "nbconvert_exporter": "python",
   "pygments_lexer": "ipython3",
   "version": "3.8.3"
  }
 },
 "nbformat": 4,
 "nbformat_minor": 5
}
