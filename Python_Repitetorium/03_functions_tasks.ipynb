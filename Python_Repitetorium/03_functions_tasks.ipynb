{
 "cells": [
  {
   "cell_type": "markdown",
   "id": "d11aba50",
   "metadata": {},
   "source": [
    "### Functions"
   ]
  },
  {
   "cell_type": "markdown",
   "id": "22850f61",
   "metadata": {},
   "source": [
    "Most important things to know about functions:\n",
    "- **Docstrings**: String that describes what the function does and its parameters and return values. \n",
    "    - @brief\n",
    "    - Inputs\n",
    "    - Return\n",
    "- **Positional and optional arruments**: positional arguments must be passed when calling the functions. Optionals can optionally."
   ]
  },
  {
   "cell_type": "code",
   "execution_count": 10,
   "id": "fbd43987",
   "metadata": {},
   "outputs": [],
   "source": [
    "# Example\n",
    "\n",
    "def square(n, n2, print_string = True):\n",
    "    '''\n",
    "    @brief: Squares the input, optionally prints the result\n",
    "    \n",
    "    \n",
    "    Inputs:\n",
    "        n int\n",
    "            The number to be squared\n",
    "        print_string bool\n",
    "            If set to true, the result will be printed nicely.\n",
    "        \n",
    "    Returns:\n",
    "        n_squared: int\n",
    "            the squared of n.\n",
    "    '''\n",
    "    \n",
    "\n",
    "    n_squared = n**2\n",
    "    if print_string: print(f'The square of {n} is {n_squared}')\n",
    "    return n_squared\n",
    "    "
   ]
  },
  {
   "cell_type": "code",
   "execution_count": 8,
   "id": "950de297",
   "metadata": {},
   "outputs": [
    {
     "data": {
      "text/plain": [
       "16"
      ]
     },
     "execution_count": 8,
     "metadata": {},
     "output_type": "execute_result"
    }
   ],
   "source": [
    "# in jupyter lab, press shit+ tab to get the docs of an object, when its marked\n",
    "square(4, 5, print_string = False)\n"
   ]
  },
  {
   "cell_type": "markdown",
   "id": "cc560f2d",
   "metadata": {},
   "source": [
    "### Task"
   ]
  },
  {
   "cell_type": "markdown",
   "id": "ac26bd4d",
   "metadata": {},
   "source": [
    "Write a function, that adds up all numbers up to the one given in the argument.   \n",
    "Write a docstring.   \n",
    "Include an optional argument whether to print a string.  \n",
    "Check if your docstring is shown when pressing shift + tab once the function is defined."
   ]
  }
 ],
 "metadata": {
  "kernelspec": {
   "display_name": "Python 3 (ipykernel)",
   "language": "python",
   "name": "python3"
  },
  "language_info": {
   "codemirror_mode": {
    "name": "ipython",
    "version": 3
   },
   "file_extension": ".py",
   "mimetype": "text/x-python",
   "name": "python",
   "nbconvert_exporter": "python",
   "pygments_lexer": "ipython3",
   "version": "3.8.3"
  }
 },
 "nbformat": 4,
 "nbformat_minor": 5
}
