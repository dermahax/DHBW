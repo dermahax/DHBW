{
 "cells": [
  {
   "cell_type": "markdown",
   "id": "bb42fa78",
   "metadata": {},
   "source": [
    "### Datentyp-Aufgaben"
   ]
  },
  {
   "cell_type": "markdown",
   "id": "6869bf58",
   "metadata": {},
   "source": [
    "1.  \n",
    "a) Schreiben Sie ein Python-Programm, das die erste und letzte Farbe der folgenden Liste anzeigt.  \n",
    "```\n",
    "color_list = [\"Rot\", \"Grün\", \"Weiß\" , \"Schwarz\"]\n",
    "```\n",
    "b) Schreiben Sie eine Funktion, die den ersten und letzten Werte einer beliebigen Liste ausigbt."
   ]
  },
  {
   "cell_type": "code",
   "execution_count": null,
   "id": "a759ea30",
   "metadata": {},
   "outputs": [],
   "source": [
    "def yield_first_and_last(my_list):\n",
    "    return my_list[0], my_list[-1]\n",
    "yield_first_and_last([\"Rot\", \"Grün\", \"Weiß\" , \"Schwarz\"])"
   ]
  },
  {
   "cell_type": "markdown",
   "id": "07e7d504",
   "metadata": {},
   "source": [
    "2.  \n",
    "a) Schreiben Sie ein Python-Programm, dass das Lieblingsessen von Ihnen und das von Ihren Mitstudenten aus Ihrer Gruppe in einem Dictionary gespeichert hat. Geben Sie dieses nach „value“ sortiert aus  \n",
    "b) Schreiben Sie nun eine Funktion, die als Argument einen der Namen nimmt und dann ausgibt:\n",
    "NAME isst gerne LIEBLINGSESSEN\n"
   ]
  },
  {
   "cell_type": "code",
   "execution_count": null,
   "id": "1de38bf0",
   "metadata": {},
   "outputs": [],
   "source": [
    "essen = {'Tom'   : 'Pizza',\n",
    "         'Jessi' : 'Porridge',\n",
    "         'Marie' : 'Avocado'}\n",
    "\n",
    "# a)\n",
    "print(sorted(essen.values()))\n",
    "\n",
    "#b)\n",
    "def wer_ist_was(name, essen = essen):\n",
    "    # check if name is one of the dict keys:\n",
    "    if name in essen.keys():\n",
    "        print(f'{name} isst gerne {essen[name]}')\n",
    "    else: print(f'Ich weiß leider nicht was {name} gerne isst.')\n",
    "wer_ist_was('Tom')\n",
    "wer_ist_was('Hans')"
   ]
  },
  {
   "cell_type": "markdown",
   "id": "0d1df4a9",
   "metadata": {},
   "source": [
    "3. \n",
    "\n",
    "Erstellen Sie eine Funktion, die aus dem Input eine Wortfrequenzliste erstellt.\n",
    "D.h. es sollte es einen Text vom Standard-Input lesen und in Wörter zerlegen.\n",
    "Als Output sollte es allerdings jedes Wort nur einmal ausgeben, zusammen mit einer Zahl, die angibt, wie häufig es vorkommt (ähnlich wie ein Histogramm).\n",
    "Tipp: Verwenden Sie ein Dictionary, um zu zählen, wie oft jedes Wort vorkommt. Verwenden Sie Wörter als Keys und Zahlen als values."
   ]
  },
  {
   "cell_type": "code",
   "execution_count": null,
   "id": "2decbf58",
   "metadata": {},
   "outputs": [],
   "source": [
    "text = input('Bitte text eingeben:')"
   ]
  },
  {
   "cell_type": "code",
   "execution_count": null,
   "id": "095953df",
   "metadata": {},
   "outputs": [],
   "source": [
    "def count_words(text):\n",
    "    # split text in words\n",
    "    word_list = text.split()\n",
    "    \n",
    "    # create a dictionary and fill it with the words as keys. Count them.\n",
    "    word_count_dict = {}\n",
    "    for word in word_list:\n",
    "        if word not in word_count_dict.keys():\n",
    "            word_count_dict[word] = 1\n",
    "        else: word_count_dict[word] += 1\n",
    "    \n",
    "    # yield a print as output\n",
    "    for key, value in word_count_dict.items(): print(f'\"{key}\"\" was {value} times in the text')\n",
    "\n",
    "# run the function        \n",
    "count_words(text)"
   ]
  },
  {
   "cell_type": "markdown",
   "id": "2fb335c3",
   "metadata": {},
   "source": [
    "### If-Abfrage Aufgaben"
   ]
  },
  {
   "cell_type": "markdown",
   "id": "078d434a",
   "metadata": {},
   "source": [
    "1. \n",
    "\n",
    "Schreibe eine Python-Funktion, um zu testen, ob eine Zahl x <= 100, 100 <x <= 1000 oder x >1000liegt.  "
   ]
  },
  {
   "cell_type": "code",
   "execution_count": null,
   "id": "c603d75b",
   "metadata": {},
   "outputs": [],
   "source": [
    "def how_large(numb):\n",
    "    if numb <= 100:     res = f'{numb} ist kleinergleich 100'\n",
    "    elif numb <= 1000:  res = f'{numb} ist kleinergleich 1000'\n",
    "    else:               res = f'{numb} ist größer 1000'\n",
    "    return print(res)\n",
    "\n",
    "how_large(150)\n",
    "how_large(1500)"
   ]
  },
  {
   "cell_type": "markdown",
   "id": "ff38e8b0",
   "metadata": {},
   "source": [
    "2. \n",
    "\n",
    "Schreibe eine Funktion, die den User nach einem Namen fragt. Als Antwort, soll die Funktion ausgeben, ob der Name mit im Kurs ist.  \n",
    "\n",
    "**Bsp:**\n",
    "```\n",
    "im_kurs(„Anna“)\n",
    "```\n",
    "Retruns:  <em>Anna lernt Python, yessss.</em>\n",
    "\n",
    "\n",
    "    im_kurs(„Sven“)\n",
    "Returns: <em>Sven ist leider nicht bei uns im Kurs.</em>\n"
   ]
  },
  {
   "cell_type": "code",
   "execution_count": 5,
   "id": "23be6d5a",
   "metadata": {},
   "outputs": [
    {
     "name": "stdin",
     "output_type": "stream",
     "text": [
      "Wie heißt du? Jana\n"
     ]
    },
    {
     "name": "stdout",
     "output_type": "stream",
     "text": [
      "Jana lernt Python, yesss\n"
     ]
    }
   ],
   "source": [
    "kurs = ['Jana', 'Thomas']\n",
    "\n",
    "def im_kurs():\n",
    "    global kur's\n",
    "    name = input('Wie heißt du?')\n",
    "    if name in kurs: res = f'{name} lernt Python, yesss'\n",
    "    else:            res = f'{name} ist leider nicht bei uns im Kurs'\n",
    "    return print(res)\n",
    "\n",
    "im_kurs()"
   ]
  },
  {
   "cell_type": "markdown",
   "id": "5cb67ffe",
   "metadata": {},
   "source": [
    "### Functions -- to do"
   ]
  }
 ],
 "metadata": {
  "kernelspec": {
   "display_name": "Python 3 (ipykernel)",
   "language": "python",
   "name": "python3"
  },
  "language_info": {
   "codemirror_mode": {
    "name": "ipython",
    "version": 3
   },
   "file_extension": ".py",
   "mimetype": "text/x-python",
   "name": "python",
   "nbconvert_exporter": "python",
   "pygments_lexer": "ipython3",
   "version": "3.8.3"
  }
 },
 "nbformat": 4,
 "nbformat_minor": 5
}
