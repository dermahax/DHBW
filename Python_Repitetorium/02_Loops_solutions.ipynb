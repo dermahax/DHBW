{
 "cells": [
  {
   "cell_type": "markdown",
   "id": "9052ed38",
   "metadata": {},
   "source": [
    "### Loops - Theory"
   ]
  },
  {
   "cell_type": "markdown",
   "id": "cc2e0a05",
   "metadata": {},
   "source": [
    "There are two types of loops:\n",
    "- for\n",
    "- while\n",
    "\n",
    "Use **for** if you have a specific number of runs. For example, loop through the elements of a list (len(list) runs).  \n",
    "Use **while** if you don't know in advance, how often the loop will run.\n",
    "\n"
   ]
  },
  {
   "cell_type": "markdown",
   "id": "606b9a78",
   "metadata": {},
   "source": [
    "##### For"
   ]
  },
  {
   "cell_type": "code",
   "execution_count": null,
   "id": "e09793da",
   "metadata": {},
   "outputs": [],
   "source": [
    "students = ['Anna', 'Nathalie', 'Tim']\n",
    "\n",
    "for student in students:\n",
    "    print(f'Hi {student}, I am happy you are here.')"
   ]
  },
  {
   "cell_type": "markdown",
   "id": "401ae14d",
   "metadata": {},
   "source": [
    "##### While"
   ]
  },
  {
   "cell_type": "code",
   "execution_count": null,
   "id": "2ecb8075",
   "metadata": {},
   "outputs": [],
   "source": [
    "prompt = \"\\nTell me something, and I will repeat it back to you:\"\n",
    "prompt += \"\\nEnter 'quit' to end the program. \"\n",
    "\n",
    "active = True\n",
    "while active:\n",
    "    message = input(prompt)\n",
    "    \n",
    "    if message == 'quit':\n",
    "        active = False\n",
    "    else:\n",
    "        print('You said: ', message)\n"
   ]
  },
  {
   "cell_type": "markdown",
   "id": "45108772",
   "metadata": {},
   "source": [
    "### Tasks\n",
    "taken from [w3resource](https://www.w3resource.com/python-exercises/python-functions-exercises.php). If you want to practice more, you find more exercises with solutions there.\n"
   ]
  },
  {
   "cell_type": "markdown",
   "id": "f74a58ce",
   "metadata": {},
   "source": [
    "1. Write a Python program to print the even numbers from a given list.   \n",
    "Sample List : ```[1, 2, 3, 4, 5, 6, 7, 8, 9]```  \n",
    "Expected Result : ```[2, 4, 6, 8]```"
   ]
  },
  {
   "cell_type": "code",
   "execution_count": null,
   "id": "f63083a2",
   "metadata": {},
   "outputs": [],
   "source": [
    "def is_even_num(l):\n",
    "    enum = []\n",
    "    for n in l:\n",
    "        if n % 2 == 0:\n",
    "            enum.append(n)\n",
    "    return enum\n",
    "print(is_even_num([1, 2, 3, 4, 5, 6, 7, 8, 9]))"
   ]
  },
  {
   "attachments": {
    "53407255-eb68-4a98-a12a-a93587f7e3a4.png": {
     "image/png": "[encoded data removed]"
    }
   },
   "cell_type": "markdown",
   "id": "377ed2d4",
   "metadata": {},
   "source": [
    "2. Write a Python function that prints out the first n rows of Pascal's triangle.  \n",
    "<em>Note : Pascal's triangle is an arithmetic and geometric figure first imagined by Blaise Pascal. </em>  \n",
    "\n",
    "Sample Pascal's triangle:  \n",
    "![image.png](attachment:53407255-eb68-4a98-a12a-a93587f7e3a4.png)  \n",
    "Each number is the two numbers above it added together  \n",
    "\n",
    "**Add-on exercise**: Raise a type exception, if the argument n is not of type integer.\n",
    "\n"
   ]
  },
  {
   "cell_type": "code",
   "execution_count": null,
   "id": "e679fff7",
   "metadata": {},
   "outputs": [],
   "source": [
    "def pascal_triangle(n):\n",
    "   ''' Inpupt n denotes the number of rows'''\n",
    "   trow = [1]\n",
    "   y = [0]\n",
    "   for x in range(max(n,0)):\n",
    "      print(trow)\n",
    "      trow=[l+r for l,r in zip(trow+y, y+trow)]\n",
    "   return n>=1\n",
    "pascal_triangle(6) "
   ]
  },
  {
   "cell_type": "markdown",
   "id": "130e1929",
   "metadata": {},
   "source": [
    "3. Write a Python program to guess a number between 1 and 9.  \n",
    "<em>Note : User is prompted to enter a guess. If the user guesses wrong then the prompt appears again until the guess is correct.  \n",
    "    On successful guess, user will get a \"Well guessed!\" message, and the program will exit.</em>  \n",
    "<em>Note2: The python build-in random module could be helpful.</em>"
   ]
  },
  {
   "cell_type": "markdown",
   "id": "7b286150",
   "metadata": {},
   "source": [
    "## import random\n",
    "target_num, guess_num = random.randint(1, 10), 0\n",
    "while target_num != guess_num:\n",
    "    guess_num = int(input('Guess a number between 1 and 10 until you get it right : '))\n",
    "print('Well guessed!')"
   ]
  }
 ],
 "metadata": {
  "kernelspec": {
   "display_name": "Python 3 (ipykernel)",
   "language": "python",
   "name": "python3"
  },
  "language_info": {
   "codemirror_mode": {
    "name": "ipython",
    "version": 3
   },
   "file_extension": ".py",
   "mimetype": "text/x-python",
   "name": "python",
   "nbconvert_exporter": "python",
   "pygments_lexer": "ipython3",
   "version": "3.8.3"
  }
 },
 "nbformat": 4,
 "nbformat_minor": 5
}
