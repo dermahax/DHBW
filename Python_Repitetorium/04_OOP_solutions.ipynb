{
 "cells": [
  {
   "cell_type": "markdown",
   "id": "2b2bf652",
   "metadata": {},
   "source": [
    "### Object oriented programming (OOP)"
   ]
  },
  {
   "cell_type": "markdown",
   "id": "c9df1b2c",
   "metadata": {},
   "source": [
    "Example of a class definition:\n",
    "```python\n",
    "class Car():\n",
    "    \"\"\"A simple attempt to represent a car.\"\"\"\n",
    "\n",
    "    def __init__(self, make, model, year):\n",
    "        self.make = make\n",
    "        self.model = model\n",
    "        self.year = year\n",
    "        self.odometer_reading = 0\n",
    "        \n",
    "    def get_descriptive_name(self):\n",
    "        long_name = f\"{self.year} {self.make} {self.model}\"\n",
    "        return long_name.title()\n",
    "```"
   ]
  },
  {
   "cell_type": "markdown",
   "id": "d6858e2a",
   "metadata": {},
   "source": [
    "### Task  \n",
    "- Write a method to read the odometer.  \n",
    "- Write a method to increase the odometer.  \n",
    "\n",
    "**Hints:**  \n",
    "    (odomoeter = Kilometerzähler)  \n",
    "     you can copy the class from the markdown above"
   ]
  },
  {
   "cell_type": "code",
   "execution_count": 1,
   "id": "cd0b5cf5",
   "metadata": {},
   "outputs": [],
   "source": [
    "class Car():\n",
    "    \"\"\"A simple attempt to represent a car.\"\"\"\n",
    "\n",
    "    def __init__(self, make, model, year):\n",
    "        self.make = make\n",
    "        self.model = model\n",
    "        self.year = year\n",
    "        self.odometer_reading = 0\n",
    "        self.number_of_seats = 5\n",
    "        self.color = 'red'\n",
    "        \n",
    "    def get_descriptive_name(self):\n",
    "        long_name = f\"{self.year} {self.make} {self.model}\"\n",
    "        return long_name.title()\n",
    "    \n",
    "    def read_odometer(self):\n",
    "         return f\"This car has {self.odometer_reading} miles on it.\"\n",
    "    \n",
    "    def increment_odometer(self, miles):\n",
    "        self.odometer_reading += miles\n"
   ]
  },
  {
   "cell_type": "code",
   "execution_count": 15,
   "id": "67a78ac4",
   "metadata": {},
   "outputs": [
    {
     "name": "stdout",
     "output_type": "stream",
     "text": [
      "0\n",
      "0\n",
      "1000\n",
      "0\n"
     ]
    }
   ],
   "source": [
    "# create an audi object\n",
    "\n",
    "my_audi = Car('audi', 'a8', 2015)\n",
    "my_vw = Car('vw', 'golf', 2023)\n",
    "print(my_audi.odometer_reading)\n",
    "print(my_vw.odometer_reading)\n",
    "\n",
    "my_audi.increment_odometer(1000)\n",
    "print(my_audi.odometer_reading)\n",
    "print(my_vw.odometer_reading)"
   ]
  },
  {
   "cell_type": "markdown",
   "id": "65911595",
   "metadata": {},
   "source": [
    "### Inheritance"
   ]
  },
  {
   "cell_type": "code",
   "execution_count": null,
   "id": "7d607429",
   "metadata": {},
   "outputs": [],
   "source": [
    "class ElectricCar(Car):\n",
    "    \"\"\"Represent aspects of a car, specific to electric vehicles.\"\"\"\n",
    "    \n",
    "    def __init__(self, make, model, year):\n",
    "        \"\"\"\n",
    "        Initialize attributes of the parent class.\n",
    "        Then initialize attributes specific to an electric car.\n",
    "        \"\"\"\n",
    "        super().__init__(make, model, year)\n",
    "        self.battery_size = 75\n",
    "\n",
    "    def describe_battery(self):\n",
    "        \"\"\"Print a statement describing the battery size.\"\"\"\n",
    "        print(f\"This car has a {self.battery_size}-kWh battery.\")\n",
    "\n",
    "my_tesla = ElectricCar('tesla', 'model s', 2019)\n",
    "print(my_tesla.get_descriptive_name())\n",
    "my_tesla.describe_battery()"
   ]
  },
  {
   "cell_type": "code",
   "execution_count": 22,
   "id": "1c19a079",
   "metadata": {},
   "outputs": [
    {
     "name": "stdout",
     "output_type": "stream",
     "text": [
      "True\n",
      "False\n"
     ]
    }
   ],
   "source": [
    "class Cabriolet(Car):\n",
    "    '''Represensts cabriolets, and checks if their roof is open'''\n",
    "    def __init__(self, make, model, year):\n",
    "        super().__init__(make, model, year)\n",
    "        self.roof_open = True\n",
    "    \n",
    "    def change_roof(self):\n",
    "        if self.roof_open: self.roof_open = False\n",
    "        else: self.roof_open = True\n",
    "\n",
    "my_cabriolet= Cabriolet('audi', 'audi_cabriolet', 2000)\n",
    "print(my_cabriolet.roof_open)\n",
    "\n",
    "my_cabriolet.change_roof()\n",
    "print(my_cabriolet.roof_open)\n"
   ]
  },
  {
   "cell_type": "code",
   "execution_count": null,
   "id": "f0bfdfa8",
   "metadata": {},
   "outputs": [],
   "source": []
  }
 ],
 "metadata": {
  "kernelspec": {
   "display_name": "Python 3 (ipykernel)",
   "language": "python",
   "name": "python3"
  },
  "language_info": {
   "codemirror_mode": {
    "name": "ipython",
    "version": 3
   },
   "file_extension": ".py",
   "mimetype": "text/x-python",
   "name": "python",
   "nbconvert_exporter": "python",
   "pygments_lexer": "ipython3",
   "version": "3.8.3"
  }
 },
 "nbformat": 4,
 "nbformat_minor": 5
}
