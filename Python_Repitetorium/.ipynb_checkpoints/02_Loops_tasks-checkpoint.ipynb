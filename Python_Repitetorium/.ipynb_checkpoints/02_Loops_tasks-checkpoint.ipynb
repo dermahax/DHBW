{
 "cells": [
  {
   "cell_type": "markdown",
   "id": "00383939",
   "metadata": {},
   "source": [
    "### Loops"
   ]
  },
  {
   "cell_type": "markdown",
   "id": "99bc0842",
   "metadata": {},
   "source": [
    "There are two types of loops:\n",
    "- for\n",
    "- while\n",
    "\n",
    "Use **for** if you have a specific number of runs. For example, loop through the elements of a list (len(list) runs).  \n",
    "Use **while** if you don't know in advance, how often the loop will run.\n",
    "\n"
   ]
  },
  {
   "cell_type": "markdown",
   "id": "3f02ccd4",
   "metadata": {},
   "source": [
    "##### For"
   ]
  },
  {
   "cell_type": "code",
   "execution_count": null,
   "id": "e4004417",
   "metadata": {},
   "outputs": [],
   "source": [
    "students = ['Anna', 'Nathalie', 'Tim']\n",
    "\n",
    "for student in students:\n",
    "    print(f'Hi {student}, I am happy you are here.')"
   ]
  },
  {
   "cell_type": "markdown",
   "id": "a2892525",
   "metadata": {},
   "source": [
    "##### While"
   ]
  },
  {
   "cell_type": "code",
   "execution_count": null,
   "id": "7ce183d0",
   "metadata": {},
   "outputs": [],
   "source": [
    "prompt = \"\\nTell me something, and I will repeat it back to you:\"\n",
    "prompt += \"\\nEnter 'quit' to end the program. \"\n",
    "\n",
    "active = True\n",
    "while active:\n",
    "    message = input(prompt)\n",
    "    \n",
    "    if message == 'quit':\n",
    "        active = False\n",
    "    else:\n",
    "        print('You said: ', message)\n"
   ]
  }
 ],
 "metadata": {
  "kernelspec": {
   "display_name": "Python 3 (ipykernel)",
   "language": "python",
   "name": "python3"
  },
  "language_info": {
   "codemirror_mode": {
    "name": "ipython",
    "version": 3
   },
   "file_extension": ".py",
   "mimetype": "text/x-python",
   "name": "python",
   "nbconvert_exporter": "python",
   "pygments_lexer": "ipython3",
   "version": "3.8.3"
  }
 },
 "nbformat": 4,
 "nbformat_minor": 5
}
