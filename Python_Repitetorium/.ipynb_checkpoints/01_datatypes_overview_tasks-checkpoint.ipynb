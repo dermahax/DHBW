{
 "cells": [
  {
   "cell_type": "markdown",
   "id": "dbd7d094",
   "metadata": {},
   "source": [
    "### Most important datatypes in python"
   ]
  },
  {
   "cell_type": "markdown",
   "id": "6f10b3de",
   "metadata": {},
   "source": [
    "Can be classified by:\n",
    "-  iterable: \"Can I loop through the elements?\"    \n",
    "-  mutable: \"Can I edit or replace elememnts in my datatype?\"\n",
    "- acces by key/index: \"Do I acces my element via an Index (Number) or a Key (String)\"?\n",
    "- fixed/varying length: \"Once created, can I vary the length of my datatype? For example, could I add an element?"
   ]
  },
  {
   "cell_type": "markdown",
   "id": "8177946d",
   "metadata": {},
   "source": [
    "See the list example. \n",
    "Show the attributes of the other datatypes in an analogue way."
   ]
  },
  {
   "cell_type": "code",
   "execution_count": null,
   "id": "19b826d6",
   "metadata": {},
   "outputs": [],
   "source": []
  },
  {
   "cell_type": "markdown",
   "id": "1287580d",
   "metadata": {},
   "source": [
    "#### Lists []"
   ]
  },
  {
   "cell_type": "code",
   "execution_count": 2,
   "id": "2240ea38",
   "metadata": {},
   "outputs": [
    {
     "name": "stdout",
     "output_type": "stream",
     "text": [
      "My list, element by element:\n",
      "1\n",
      "2\n",
      "three\n",
      "\n",
      "After mutating the snd element, my list looks like this:  [1, 'this used to be a 2', 'three']\n",
      "\n",
      "My last element:  three\n"
     ]
    },
    {
     "data": {
      "text/plain": [
       "4"
      ]
     },
     "execution_count": 2,
     "metadata": {},
     "output_type": "execute_result"
    }
   ],
   "source": [
    "my_list = [1,2,\"three\"]\n",
    "\n",
    "# iterable\n",
    "print('My list, element by element:')\n",
    "for element in my_list: \n",
    "    print(element)\n",
    "\n",
    "\n",
    "# mutable\n",
    "my_list[1] = \"this used to be a 2\"\n",
    "print('\\nAfter mutating the snd element, my list looks like this: ',my_list)\n",
    "    \n",
    "# acces by index .INDEX starts always with 0. You can acces last index using -1.\n",
    "print('\\nMy last element: ', my_list[-1])\n",
    "\n",
    "# varying length\n",
    "my_list.append(4)\n",
    "\n",
    "# most important methods \n",
    "my_list.append(5) # add an element at the end\n",
    "my_list.pop() # cut out an element. by default, the last (my_list.pop = my_list.pop(-1)). Cut means, the element is deleted from the list, but returned.\n",
    "len(my_list) # Give number of elements.\n"
   ]
  },
  {
   "cell_type": "markdown",
   "id": "13b386d3",
   "metadata": {},
   "source": [
    "#### Dictionaries {}"
   ]
  },
  {
   "cell_type": "code",
   "execution_count": null,
   "id": "a9bacb47",
   "metadata": {},
   "outputs": [],
   "source": [
    "#dictionary\n",
    "my_dic = {\"first\"   :   1,\n",
    "          \"snd\"     :   2,\n",
    "          \"third\"   :   \"three\"}\n",
    "            #key    :   #value\n",
    "    # iterable    \n",
    "    # mutable\n",
    "    # acces by key\n",
    "    # varying length\n",
    "    # most important methods -> See cheatsheet lists."
   ]
  },
  {
   "cell_type": "markdown",
   "id": "690c8631",
   "metadata": {},
   "source": [
    "#### Tuple ()"
   ]
  },
  {
   "cell_type": "code",
   "execution_count": null,
   "id": "fd251088",
   "metadata": {},
   "outputs": [],
   "source": [
    "#tuple\n",
    "my_tuple = (1,2,\"three\")\n",
    "    # iterable    \n",
    "    # immutable\n",
    "    # acces by index\n",
    "    # fixed length"
   ]
  },
  {
   "cell_type": "markdown",
   "id": "7e598137",
   "metadata": {},
   "source": [
    "#### Strings \"\""
   ]
  },
  {
   "cell_type": "code",
   "execution_count": 1,
   "id": "59eae636",
   "metadata": {},
   "outputs": [],
   "source": [
    "my_string = \"In python, I can iterate through strings as well\"\n",
    "    # iterable    \n",
    "    # immutable\n",
    "    # acces by index\n",
    "    # varying length"
   ]
  },
  {
   "cell_type": "markdown",
   "id": "a787ad00",
   "metadata": {},
   "source": [
    "#### (numpy) arrays np.array()"
   ]
  },
  {
   "cell_type": "code",
   "execution_count": 3,
   "id": "bfa1022b",
   "metadata": {},
   "outputs": [],
   "source": [
    "import numpy as np\n",
    "my_array = np.arange(6).reshape(2,3)\n",
    "    # iterable    \n",
    "    # mutable\n",
    "    # acces by index\n",
    "    # varying length"
   ]
  }
 ],
 "metadata": {
  "kernelspec": {
   "display_name": "Python 3 (ipykernel)",
   "language": "python",
   "name": "python3"
  },
  "language_info": {
   "codemirror_mode": {
    "name": "ipython",
    "version": 3
   },
   "file_extension": ".py",
   "mimetype": "text/x-python",
   "name": "python",
   "nbconvert_exporter": "python",
   "pygments_lexer": "ipython3",
   "version": "3.8.3"
  }
 },
 "nbformat": 4,
 "nbformat_minor": 5
}
