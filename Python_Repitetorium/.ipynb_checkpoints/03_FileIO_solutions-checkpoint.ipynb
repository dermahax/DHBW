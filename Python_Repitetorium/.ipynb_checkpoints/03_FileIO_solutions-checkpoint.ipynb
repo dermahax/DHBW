{
 "cells": [
  {
   "cell_type": "markdown",
   "id": "51c5ad81",
   "metadata": {},
   "source": [
    "### FileIO (File In and Out)"
   ]
  },
  {
   "cell_type": "markdown",
   "id": "529091a1",
   "metadata": {},
   "source": [
    "Using python, you can acces external files. For example, a textfile being stored on your computer.  \n",
    "There are different acces methods that we will disuss. A simple acces to a file could look like this:  \n",
    "```python\n",
    "filename = 'siddhartha.txt'\n",
    "with open(filename) as f_obj:\n",
    "    contents = f_obj.read()\n",
    "print(contents)\n",
    "```\n",
    "\n",
    "You can find more info on [python-lernen](https://www.python-lernen.de/dateien-auslesen.htm)"
   ]
  },
  {
   "cell_type": "markdown",
   "id": "781346fc",
   "metadata": {},
   "source": [
    "### Tasks"
   ]
  },
  {
   "cell_type": "markdown",
   "id": "660b4190",
   "metadata": {},
   "source": [
    "1. Read in the file <em>data/pi_digits.txt</em> and print its content"
   ]
  },
  {
   "cell_type": "code",
   "execution_count": null,
   "id": "d96c0045",
   "metadata": {},
   "outputs": [],
   "source": [
    "filename = '03_IO_data/prorgramming.txt'\n",
    "with open(filename) as f_obj:\n",
    "    contents = f_obj.read()"
   ]
  },
  {
   "cell_type": "markdown",
   "id": "fbc3b254",
   "metadata": {},
   "source": [
    "2. Read in the file <em>data/pi_million_digits.txt</em>. Save its content within one string. Convert it to a float."
   ]
  },
  {
   "cell_type": "code",
   "execution_count": null,
   "id": "ad665ec8",
   "metadata": {},
   "outputs": [],
   "source": [
    "filename = '03_IO_data/pi_million_digits.txt'\n",
    "with open(filename) as f_obj:\n",
    "    contents = f_obj.read()\n",
    "\n",
    "# get rid of linebreaks\n",
    "contents = contents.replace('\\n', '').replace(' ','')\n",
    "f = float(contents)\n",
    "print(f) # floats in python are double-precision have 16 digits. (not one million ;-)"
   ]
  }
 ],
 "metadata": {
  "kernelspec": {
   "display_name": "Python 3 (ipykernel)",
   "language": "python",
   "name": "python3"
  },
  "language_info": {
   "codemirror_mode": {
    "name": "ipython",
    "version": 3
   },
   "file_extension": ".py",
   "mimetype": "text/x-python",
   "name": "python",
   "nbconvert_exporter": "python",
   "pygments_lexer": "ipython3",
   "version": "3.8.3"
  }
 },
 "nbformat": 4,
 "nbformat_minor": 5
}
