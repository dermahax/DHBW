{
 "cells": [
  {
   "cell_type": "markdown",
   "id": "db581319",
   "metadata": {},
   "source": [
    "### Datentyp-Aufgaben"
   ]
  },
  {
   "cell_type": "markdown",
   "id": "73bcb0b6",
   "metadata": {},
   "source": [
    "1.  \n",
    "a) Schreiben Sie ein Python-Programm, das die erste und letzte Farbe der folgenden Liste anzeigt.  \n",
    "```\n",
    "color_list = [\"Rot\", \"Grün\", \"Weiß\" , \"Schwarz\"]\n",
    "```\n",
    "b) Schreiben Sie eine Funktion, die den ersten und letzten Werte einer beliebigen Liste ausigbt."
   ]
  },
  {
   "cell_type": "code",
   "execution_count": null,
   "id": "d838b835",
   "metadata": {},
   "outputs": [],
   "source": []
  },
  {
   "cell_type": "markdown",
   "id": "8922c2c3",
   "metadata": {},
   "source": [
    "2.  \n",
    "a) Schreiben Sie ein Python-Programm, dass das Lieblingsessen von Ihnen und das von Ihren Mitstudenten aus Ihrer Gruppe in einem Dictionary gespeichert hat. Geben Sie dieses nach „value“ sortiert aus  \n",
    "b) Schreiben Sie nun eine Funktion, die als Argument einen der Namen nimmt und dann ausgibt:\n",
    "NAME isst gerne LIEBLINGSESSEN\n"
   ]
  },
  {
   "cell_type": "code",
   "execution_count": null,
   "id": "3d5fbec1",
   "metadata": {},
   "outputs": [],
   "source": []
  },
  {
   "cell_type": "markdown",
   "id": "e16874eb",
   "metadata": {},
   "source": [
    "3. \n",
    "\n",
    "Erstellen Sie eine Funktion, die aus dem Input eine Wortfrequenzliste erstellt.\n",
    "D.h. es sollte es einen Text vom Standard-Input lesen und in Wörter zerlegen.\n",
    "Als Output sollte es allerdings jedes Wort nur einmal ausgeben, zusammen mit einer Zahl, die angibt, wie häufig es vorkommt (ähnlich wie ein Histogramm).\n",
    "Tipp: Verwenden Sie ein Dictionary, um zu zählen, wie oft jedes Wort vorkommt. Verwenden Sie Wörter als Keys und Zahlen als values.\n",
    "\n",
    "Knobel-/ Zusatzaufgabe: Elegant lässt sich diese Aufgabe mit dem Datentyp set lösen\n"
   ]
  },
  {
   "cell_type": "code",
   "execution_count": null,
   "id": "fec79f3e",
   "metadata": {},
   "outputs": [],
   "source": []
  },
  {
   "cell_type": "markdown",
   "id": "9ec69270",
   "metadata": {},
   "source": [
    "### If-Abfrage Aufgaben"
   ]
  },
  {
   "cell_type": "markdown",
   "id": "b20b39fe",
   "metadata": {},
   "source": [
    "1. \n",
    "\n",
    "Schreibe eine Python-Funktion, um zu testen, ob eine Zahl x <= 100, 100 <x <= 1000 oder x >1000liegt.  "
   ]
  },
  {
   "cell_type": "code",
   "execution_count": null,
   "id": "683020ce",
   "metadata": {},
   "outputs": [],
   "source": []
  },
  {
   "cell_type": "markdown",
   "id": "0e1107a3",
   "metadata": {},
   "source": [
    "2. \n",
    "\n",
    "Schreibe eine Funktion, die den User nach einem Namen fragt. Als Antwort, soll die Funktion ausgeben, ob der Name mit im Kurs ist.  \n",
    "\n",
    "**Bsp:**\n",
    "```\n",
    "im_kurs(„Anna“)\n",
    "```\n",
    "Retruns:  <em>Anna lernt Python, yessss.</em>\n",
    "\n",
    "\n",
    "    im_kurs(„Sven“)\n",
    "Returns: <em>Sven ist leider nicht bei uns im Kurs.</em>\n"
   ]
  },
  {
   "cell_type": "code",
   "execution_count": null,
   "id": "33e46db6",
   "metadata": {},
   "outputs": [],
   "source": []
  },
  {
   "cell_type": "markdown",
   "id": "7210d8a5",
   "metadata": {},
   "source": [
    "### Functions"
   ]
  },
  {
   "cell_type": "markdown",
   "id": "3e33b009",
   "metadata": {},
   "source": [
    "1. \n",
    "\n",
    "Schreibe eine Funktion, die beliebig viele Studenten grüßt:  \n",
    "```\n",
    "    call_students('Thomas')\n",
    "```\n",
    "<em> Hi Thomas.</em>\n",
    "\n",
    "    call_students('Elena', 'Marie', 'Thomas')  \n",
    "<em>Hi Elena.  </em>  \n",
    "<em>Hi Marie. </em>  \n",
    "<em>Hi Thomas.</em>\n",
    "                      \n"
   ]
  },
  {
   "cell_type": "code",
   "execution_count": 1,
   "id": "64d041de",
   "metadata": {},
   "outputs": [
    {
     "ename": "SyntaxError",
     "evalue": "invalid syntax (Temp/ipykernel_24544/124324077.py, line 3)",
     "output_type": "error",
     "traceback": [
      "\u001b[1;36m  File \u001b[1;32m\"C:\\Users\\I13500~1\\AppData\\Local\\Temp/ipykernel_24544/124324077.py\"\u001b[1;36m, line \u001b[1;32m3\u001b[0m\n\u001b[1;33m    animal3 = 'Elephant')\u001b[0m\n\u001b[1;37m                         ^\u001b[0m\n\u001b[1;31mSyntaxError\u001b[0m\u001b[1;31m:\u001b[0m invalid syntax\n"
     ]
    }
   ],
   "source": [
    " def hello_animals( animal1 = 'Tiger',\n",
    "                    animal2 = 'Cow',\n",
    "                    animal3 = 'Elephant'):\n",
    "        for "
   ]
  },
  {
   "cell_type": "code",
   "execution_count": null,
   "id": "f1374767",
   "metadata": {},
   "outputs": [],
   "source": []
  }
 ],
 "metadata": {
  "kernelspec": {
   "display_name": "Python 3 (ipykernel)",
   "language": "python",
   "name": "python3"
  },
  "language_info": {
   "codemirror_mode": {
    "name": "ipython",
    "version": 3
   },
   "file_extension": ".py",
   "mimetype": "text/x-python",
   "name": "python",
   "nbconvert_exporter": "python",
   "pygments_lexer": "ipython3",
   "version": "3.8.3"
  }
 },
 "nbformat": 4,
 "nbformat_minor": 5
}
