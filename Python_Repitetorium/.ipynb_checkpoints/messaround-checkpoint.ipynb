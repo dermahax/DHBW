{
 "cells": [
  {
   "cell_type": "markdown",
   "id": "dc94c468",
   "metadata": {},
   "source": [
    "### Messaround notebook"
   ]
  },
  {
   "cell_type": "code",
   "execution_count": 10,
   "id": "4806f7ea",
   "metadata": {},
   "outputs": [
    {
     "name": "stdin",
     "output_type": "stream",
     "text": [
      " 'asdlkfjlaksdf\n"
     ]
    },
    {
     "name": "stdout",
     "output_type": "stream",
     "text": [
      "keep going\n"
     ]
    },
    {
     "name": "stdin",
     "output_type": "stream",
     "text": [
      " quit\n"
     ]
    },
    {
     "name": "stdout",
     "output_type": "stream",
     "text": [
      "keep going\n"
     ]
    }
   ],
   "source": [
    "inp = ''\n",
    "while inp != 'quit':\n",
    "    inp = input()\n",
    "    print('keep going')"
   ]
  },
  {
   "cell_type": "code",
   "execution_count": 11,
   "id": "ae9099ab",
   "metadata": {},
   "outputs": [
    {
     "name": "stdout",
     "output_type": "stream",
     "text": [
      "Thomas\n",
      "Jana\n"
     ]
    }
   ],
   "source": [
    "kurs =  ['Thomas', 'Jana']\n",
    "for teilnehmer in kurs: \n",
    "    print(teilnehmer)"
   ]
  },
  {
   "cell_type": "code",
   "execution_count": 12,
   "id": "aea049be",
   "metadata": {},
   "outputs": [
    {
     "data": {
      "text/plain": [
       "1"
      ]
     },
     "execution_count": 12,
     "metadata": {},
     "output_type": "execute_result"
    }
   ],
   "source": [
    "5 % 2"
   ]
  },
  {
   "cell_type": "code",
   "execution_count": 13,
   "id": "c9a842e6",
   "metadata": {},
   "outputs": [
    {
     "data": {
      "text/plain": [
       "0"
      ]
     },
     "execution_count": 13,
     "metadata": {},
     "output_type": "execute_result"
    }
   ],
   "source": [
    "9 %3"
   ]
  },
  {
   "cell_type": "code",
   "execution_count": 15,
   "id": "9d23460f",
   "metadata": {},
   "outputs": [
    {
     "data": {
      "text/plain": [
       "True"
      ]
     },
     "execution_count": 15,
     "metadata": {},
     "output_type": "execute_result"
    }
   ],
   "source": [
    "while bool('')"
   ]
  },
  {
   "cell_type": "code",
   "execution_count": 1,
   "id": "6e634bba",
   "metadata": {},
   "outputs": [],
   "source": [
    "def my_func(*args):\n",
    "    for arg in args:\n",
    "        print(arg)"
   ]
  },
  {
   "cell_type": "code",
   "execution_count": 2,
   "id": "b6dcefcc",
   "metadata": {},
   "outputs": [
    {
     "name": "stdout",
     "output_type": "stream",
     "text": [
      "1\n",
      "2\n",
      "3\n"
     ]
    }
   ],
   "source": [
    "my_func(1,2,3)"
   ]
  },
  {
   "cell_type": "code",
   "execution_count": null,
   "id": "ddb4c0f3",
   "metadata": {},
   "outputs": [],
   "source": []
  }
 ],
 "metadata": {
  "kernelspec": {
   "display_name": "Python 3 (ipykernel)",
   "language": "python",
   "name": "python3"
  },
  "language_info": {
   "codemirror_mode": {
    "name": "ipython",
    "version": 3
   },
   "file_extension": ".py",
   "mimetype": "text/x-python",
   "name": "python",
   "nbconvert_exporter": "python",
   "pygments_lexer": "ipython3",
   "version": "3.8.3"
  }
 },
 "nbformat": 4,
 "nbformat_minor": 5
}
