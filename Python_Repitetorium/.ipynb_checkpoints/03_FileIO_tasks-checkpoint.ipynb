{
 "cells": [
  {
   "cell_type": "markdown",
   "id": "6d72f92a",
   "metadata": {},
   "source": [
    "### FileIO (File In and Out)"
   ]
  },
  {
   "cell_type": "markdown",
   "id": "91b0c3c2",
   "metadata": {},
   "source": [
    "Using python, you can acces external files. For example, a textfile being stored on your computer.  \n",
    "There are different acces methods that we will disuss. A simple acces to a file could look like this:  \n",
    "```python\n",
    "filename = 'siddhartha.txt'\n",
    "with open(filename) as f_obj:\n",
    "    contents = f_obj.read()\n",
    "print(contents)\n",
    "```\n",
    "\n",
    "You can find more info on [python-lernen](https://www.python-lernen.de/dateien-auslesen.htm)"
   ]
  },
  {
   "cell_type": "markdown",
   "id": "c25e36b0",
   "metadata": {},
   "source": [
    "### Tasks"
   ]
  },
  {
   "cell_type": "markdown",
   "id": "4e60e581",
   "metadata": {},
   "source": [
    "1. Read in the file <em>03_IO_data/pi_digits.txt</em> and print its content"
   ]
  },
  {
   "cell_type": "code",
   "execution_count": null,
   "id": "5a55476f",
   "metadata": {},
   "outputs": [],
   "source": []
  },
  {
   "cell_type": "markdown",
   "id": "a4b7f6e6",
   "metadata": {},
   "source": [
    "2. Read in the file <em>03_IO_data/pi_million_digits.txt</em>. Save its content within one string. Convert it to a float."
   ]
  },
  {
   "cell_type": "code",
   "execution_count": null,
   "id": "73e2d666",
   "metadata": {},
   "outputs": [],
   "source": []
  },
  {
   "cell_type": "markdown",
   "id": "01921c58",
   "metadata": {},
   "source": [
    "### Exceptions"
   ]
  },
  {
   "cell_type": "code",
   "execution_count": 2,
   "id": "d78bb310",
   "metadata": {},
   "outputs": [],
   "source": [
    "def read_file(file):\n",
    "    try:\n",
    "        with open(filename) as f_obj:\n",
    "            contents = f_obj.read()\n",
    "    except FileNotFoundError:\n",
    "        contents = None\n",
    "        print(\"Could't find file\")\n",
    "    return contents\n",
    "        "
   ]
  },
  {
   "cell_type": "code",
   "execution_count": null,
   "id": "8bc87433",
   "metadata": {},
   "outputs": [],
   "source": []
  }
 ],
 "metadata": {
  "kernelspec": {
   "display_name": "Python 3 (ipykernel)",
   "language": "python",
   "name": "python3"
  },
  "language_info": {
   "codemirror_mode": {
    "name": "ipython",
    "version": 3
   },
   "file_extension": ".py",
   "mimetype": "text/x-python",
   "name": "python",
   "nbconvert_exporter": "python",
   "pygments_lexer": "ipython3",
   "version": "3.8.3"
  }
 },
 "nbformat": 4,
 "nbformat_minor": 5
}
