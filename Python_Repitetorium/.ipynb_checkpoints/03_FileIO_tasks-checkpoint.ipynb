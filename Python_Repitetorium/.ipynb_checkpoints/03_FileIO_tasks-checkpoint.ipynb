{
 "cells": [
  {
   "cell_type": "markdown",
   "id": "6e09c58f",
   "metadata": {},
   "source": [
    "### FileIO (File In and Out)"
   ]
  },
  {
   "cell_type": "markdown",
   "id": "56943303",
   "metadata": {},
   "source": [
    "Using python, you can acces external files. For example, a textfile being stored on your computer.  \n",
    "There are different acces methods that we will disuss. A simple acces to a file could look like this:  \n",
    "```python\n",
    "filename = 'siddhartha.txt'\n",
    "with open(filename) as f_obj:\n",
    "    contents = f_obj.read()\n",
    "print(contents)\n",
    "```\n",
    "\n",
    "You can find more info on [python-lernen](https://www.python-lernen.de/dateien-auslesen.htm)"
   ]
  },
  {
   "cell_type": "markdown",
   "id": "3e7d2f6c",
   "metadata": {},
   "source": [
    "### Tasks"
   ]
  },
  {
   "cell_type": "markdown",
   "id": "019ebd1d",
   "metadata": {},
   "source": [
    "1. Read in the file <em>03_IO_data/pi_digits.txt</em> and print its content"
   ]
  },
  {
   "cell_type": "code",
   "execution_count": null,
   "id": "739802f3",
   "metadata": {},
   "outputs": [],
   "source": []
  },
  {
   "cell_type": "markdown",
   "id": "259df1b3",
   "metadata": {},
   "source": [
    "2. Read in the file <em>03_IO_data/pi_million_digits.txt</em>. Save its content within one string. Convert it to a float."
   ]
  },
  {
   "cell_type": "code",
   "execution_count": null,
   "id": "fd7b86d5",
   "metadata": {},
   "outputs": [],
   "source": []
  }
 ],
 "metadata": {
  "kernelspec": {
   "display_name": "Python 3 (ipykernel)",
   "language": "python",
   "name": "python3"
  },
  "language_info": {
   "codemirror_mode": {
    "name": "ipython",
    "version": 3
   },
   "file_extension": ".py",
   "mimetype": "text/x-python",
   "name": "python",
   "nbconvert_exporter": "python",
   "pygments_lexer": "ipython3",
   "version": "3.8.3"
  }
 },
 "nbformat": 4,
 "nbformat_minor": 5
}
