{
 "cells": [
  {
   "cell_type": "markdown",
   "id": "4b9ffe7a",
   "metadata": {},
   "source": [
    "### Object oriented programming (OOP)"
   ]
  },
  {
   "cell_type": "markdown",
   "id": "dcfcd77c",
   "metadata": {},
   "source": [
    "Example of a class definition:\n",
    "```python\n",
    "class Car():\n",
    "    \"\"\"A simple attempt to represent a car.\"\"\"\n",
    "\n",
    "    def __init__(self, make, model, year):\n",
    "        self.make = make\n",
    "        self.model = model\n",
    "        self.year = year\n",
    "        self.odometer_reading = 0\n",
    "        \n",
    "    def get_descriptive_name(self):\n",
    "        long_name = f\"{self.year} {self.make} {self.model}\"\n",
    "        return long_name.title()\n",
    "```"
   ]
  },
  {
   "cell_type": "markdown",
   "id": "da04c63c",
   "metadata": {},
   "source": [
    "### Task  \n",
    "- Write a method to read the odometer.  \n",
    "- Write a method to increase the odometer.  \n",
    "\n",
    "**Hints:**  \n",
    "    (odomoeter = Kilometerzähler)  \n",
    "     you can copy the class from the markdown above"
   ]
  },
  {
   "cell_type": "code",
   "execution_count": 2,
   "id": "12de7d10",
   "metadata": {},
   "outputs": [],
   "source": [
    "class Car():\n",
    "    \"\"\"A simple attempt to represent a car.\"\"\"\n",
    "\n",
    "    def __init__(self, make, model, year):\n",
    "        self.make = make\n",
    "        self.model = model\n",
    "        self.year = year\n",
    "        self.odometer_reading = 0\n",
    "        \n",
    "    def get_descriptive_name(self):\n",
    "        long_name = f\"{self.year} {self.make} {self.model}\"\n",
    "        return long_name.title()\n",
    "    \n",
    "    # your code goes here"
   ]
  },
  {
   "cell_type": "markdown",
   "id": "32b37410",
   "metadata": {},
   "source": [
    "### Inheritance"
   ]
  },
  {
   "cell_type": "code",
   "execution_count": 4,
   "id": "b0aab0dc",
   "metadata": {},
   "outputs": [
    {
     "name": "stdout",
     "output_type": "stream",
     "text": [
      "2019 Tesla Model S\n",
      "This car has a 75-kWh battery.\n"
     ]
    }
   ],
   "source": [
    "class ElectricCar(Car):\n",
    "    \"\"\"Represent aspects of a car, specific to electric vehicles.\"\"\"\n",
    "    \n",
    "    def __init__(self, make, model, year):\n",
    "        \"\"\"\n",
    "        Initialize attributes of the parent class.\n",
    "        Then initialize attributes specific to an electric car.\n",
    "        \"\"\"\n",
    "        super().__init__(make, model, year)\n",
    "        self.battery_size = 75 # kWh\n",
    "\n",
    "    def describe_battery(self):\n",
    "        \"\"\"Print a statement describing the battery size.\"\"\"\n",
    "        print(f\"This car has a {self.battery_size}-kWh battery.\")\n",
    "\n",
    "my_tesla = ElectricCar('tesla', 'model s', 2019)\n",
    "print(my_tesla.get_descriptive_name())\n",
    "my_tesla.describe_battery()"
   ]
  },
  {
   "cell_type": "code",
   "execution_count": 5,
   "id": "dc10094a",
   "metadata": {},
   "outputs": [],
   "source": [
    "my_tesla.battery_size = 90"
   ]
  },
  {
   "cell_type": "code",
   "execution_count": 6,
   "id": "5810d772",
   "metadata": {},
   "outputs": [
    {
     "name": "stdout",
     "output_type": "stream",
     "text": [
      "This car has a 90-kWh battery.\n"
     ]
    }
   ],
   "source": [
    "my_tesla.describe_battery()\n"
   ]
  },
  {
   "cell_type": "code",
   "execution_count": null,
   "id": "4d4c1188",
   "metadata": {},
   "outputs": [],
   "source": []
  }
 ],
 "metadata": {
  "kernelspec": {
   "display_name": "Python 3 (ipykernel)",
   "language": "python",
   "name": "python3"
  },
  "language_info": {
   "codemirror_mode": {
    "name": "ipython",
    "version": 3
   },
   "file_extension": ".py",
   "mimetype": "text/x-python",
   "name": "python",
   "nbconvert_exporter": "python",
   "pygments_lexer": "ipython3",
   "version": "3.8.3"
  }
 },
 "nbformat": 4,
 "nbformat_minor": 5
}
