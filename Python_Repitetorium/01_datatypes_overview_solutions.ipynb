{
 "cells": [
  {
   "cell_type": "markdown",
   "id": "eed77d7c",
   "metadata": {},
   "source": [
    "### Most important datatypes in python"
   ]
  },
  {
   "cell_type": "markdown",
   "id": "3136034c",
   "metadata": {},
   "source": [
    "Can be classified by:\n",
    "-  iterable: \"Can I loop through the elements?\"    \n",
    "-  mutable: \"Can I edit or replace elememnts in my datatype?\"\n",
    "- acces by key/index: \"Do I acces my element via an Index (Number) or a Key (String)\"?\n",
    "- fixed/varying length: \"Once created, can I vary the length of my datatype? For example, could I add an element?"
   ]
  },
  {
   "cell_type": "markdown",
   "id": "b37157e1",
   "metadata": {},
   "source": [
    "See the list example. \n",
    "Show the attributes of the other datatypes in an analogue way."
   ]
  },
  {
   "cell_type": "markdown",
   "id": "fcb2c25c",
   "metadata": {},
   "source": [
    "#### Lists []"
   ]
  },
  {
   "cell_type": "code",
   "execution_count": null,
   "id": "15a69adc",
   "metadata": {},
   "outputs": [],
   "source": [
    "my_list = [1,2,\"three\"]\n",
    "\n",
    "# iterable\n",
    "print('My list, element by element:')\n",
    "for element in my_list: \n",
    "    print(element)\n",
    "\n",
    "\n",
    "# mutable\n",
    "my_list[1] = \"this used to be a 2\"\n",
    "print('\\nAfter mutating the snd element, my list looks like this: ',my_list)\n",
    "    \n",
    "# acces by index .INDEX starts always with 0. You can acces last index using -1.\n",
    "print('\\nMy last element: ', my_list[-1])\n",
    "\n",
    "# varying length\n",
    "my_list.append(4)\n",
    "\n",
    "# most important methods \n",
    "my_list.append(5) # add an element at the end\n",
    "my_list.pop() # cut out an element. by default, the last (my_list.pop = my_list.pop(-1)). Cut means, the element is deleted from the list, but returned.\n",
    "len(my_list) # Give number of elements.\n"
   ]
  },
  {
   "cell_type": "markdown",
   "id": "e3c7fa2f",
   "metadata": {},
   "source": [
    "#### Dictionaries {}"
   ]
  },
  {
   "cell_type": "code",
   "execution_count": null,
   "id": "de066f57",
   "metadata": {},
   "outputs": [],
   "source": [
    "#dictionary\n",
    "my_dict = {\"first\"   :   1,\n",
    "          \"snd\"     :   2,\n",
    "          \"third\"   :   \"three\"}\n",
    "            #key    :   #value\n",
    "    # iterable\n",
    "for key, value in my_dict.items():\n",
    "    print(f'Key {key} has value {value}')\n",
    "    # mutable\n",
    "my_dict['first'] = 'one'\n",
    "    # acces by key\n",
    "print(my_dict['first'])\n",
    "    # varying length\n",
    "my_dict['fourth'] = ['four']\n",
    "    # most important methods -> See cheatsheet lists."
   ]
  },
  {
   "cell_type": "code",
   "execution_count": null,
   "id": "45764423",
   "metadata": {},
   "outputs": [],
   "source": [
    "# to answer the question from the lecture-- how to mutate a dictionary value:\n",
    "my_dict['fourth'].append('five')\n",
    "print(my_dict)\n",
    "\n",
    "# the approach I tried in the lecture (see below) did not work, because, reading from left to right, the value for the key fourth is set new (None) and then I would try appending to a None object.\n",
    "#my_dict['fourth'] = my_dict['fourth'].append('five')"
   ]
  },
  {
   "cell_type": "markdown",
   "id": "624aa947",
   "metadata": {},
   "source": [
    "#### Tuple ()"
   ]
  },
  {
   "cell_type": "code",
   "execution_count": null,
   "id": "6e2d9f54",
   "metadata": {},
   "outputs": [],
   "source": [
    "#tuple\n",
    "my_tuple = (1,2,\"three\")\n",
    "    # iterable \n",
    "for item in my_tuple: print(item)\n",
    "    # immutable\n",
    "# my_tuple[0] = 'one'    - yields TypeError\n",
    "    # acces by index\n",
    "print(my_tuple[0])\n",
    "    # fixed length"
   ]
  },
  {
   "cell_type": "markdown",
   "id": "60b71462",
   "metadata": {},
   "source": [
    "#### Strings \"\""
   ]
  },
  {
   "cell_type": "code",
   "execution_count": null,
   "id": "e22ca79f",
   "metadata": {},
   "outputs": [],
   "source": [
    "my_string = \"In python, I can iterate through strings as well\"\n",
    "    # iterable\n",
    "for i, letter in enumerate(my_string): \n",
    "    print(letter)\n",
    "    if i > 1: \n",
    "        print('...')\n",
    "        break # leave for loop\n",
    "\n",
    "    # immutable\n",
    "# my_string[0] = 'A'    -  yields TypeError\n",
    "    # acces by index\n",
    "print(my_string[0])\n",
    "    # varying length\n",
    "my_string += ' and I can make strings longer'"
   ]
  },
  {
   "cell_type": "markdown",
   "id": "5790a01c",
   "metadata": {},
   "source": [
    "#### (numpy) arrays np.array()\n",
    "\n",
    "numpy arrays differ from the container types list and tuples such that they support only the same type of elements. For example, only integers, or only floats (see \"dtype\")"
   ]
  },
  {
   "cell_type": "code",
   "execution_count": null,
   "id": "684e987c",
   "metadata": {},
   "outputs": [],
   "source": [
    "import numpy as np\n",
    "my_array = np.arange(6).reshape(3,2)\n",
    "    # iterable   \n",
    "for i in my_array: print(i)\n",
    "    # mutable\n",
    "my_array[1,1] = 100\n",
    "    # acces by index\n",
    "print(my_array[1,1])\n",
    "    # varying length\n",
    "np.append(my_array, [7,8]).reshape(4,2)"
   ]
  }
 ],
 "metadata": {
  "kernelspec": {
   "display_name": "Python 3 (ipykernel)",
   "language": "python",
   "name": "python3"
  },
  "language_info": {
   "codemirror_mode": {
    "name": "ipython",
    "version": 3
   },
   "file_extension": ".py",
   "mimetype": "text/x-python",
   "name": "python",
   "nbconvert_exporter": "python",
   "pygments_lexer": "ipython3",
   "version": "3.8.3"
  }
 },
 "nbformat": 4,
 "nbformat_minor": 5
}
