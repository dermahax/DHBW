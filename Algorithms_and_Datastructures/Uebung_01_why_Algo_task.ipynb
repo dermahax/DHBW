{
 "cells": [
  {
   "cell_type": "markdown",
   "id": "32d4db79",
   "metadata": {},
   "source": [
    "### Übung 1"
   ]
  },
  {
   "cell_type": "markdown",
   "id": "bc1eba4f",
   "metadata": {},
   "source": [
    "Schreibe einen Python-Funktion, die die Summe der Natürlichen Zahlen bis zum Argument ausgibt.\n",
    "\n",
    "Bsp: sum_up(6) = 1 + 2 + 3 + 4 + 5 + 6\n"
   ]
  },
  {
   "cell_type": "markdown",
   "id": "e62894e1",
   "metadata": {},
   "source": [
    "Testen Sie Ihre Funktion mit 10E11."
   ]
  },
  {
   "cell_type": "code",
   "execution_count": 1,
   "id": "ff5aff26",
   "metadata": {},
   "outputs": [
    {
     "name": "stdout",
     "output_type": "stream",
     "text": [
      "15\n"
     ]
    }
   ],
   "source": [
    "### not scalable approach\n",
    "\n",
    "def add_number(n):\n",
    "    i, res = 0, 0\n",
    "    for i in range(n+1):\n",
    "        res+= i\n",
    "    return res\n",
    "\n",
    "print(add_number(5)) # ok\n",
    "#print(add_number(int(10E11))) # will take some time..."
   ]
  },
  {
   "cell_type": "code",
   "execution_count": 4,
   "id": "9499f480",
   "metadata": {},
   "outputs": [
    {
     "name": "stdout",
     "output_type": "stream",
     "text": [
      "15\n",
      "500000000000500019757056\n"
     ]
    }
   ],
   "source": [
    "### scalable approach\n",
    "def add_number_smart(n):\n",
    "    return int(n* (n+1)/ 2)\n",
    "\n",
    "print(add_number_smart(5)) # ok\n",
    "print(add_number_smart(int(10E11))) # will be fast"
   ]
  },
  {
   "cell_type": "code",
   "execution_count": null,
   "id": "5bdc3068",
   "metadata": {},
   "outputs": [],
   "source": []
  }
 ],
 "metadata": {
  "kernelspec": {
   "display_name": "Python 3 (ipykernel)",
   "language": "python",
   "name": "python3"
  },
  "language_info": {
   "codemirror_mode": {
    "name": "ipython",
    "version": 3
   },
   "file_extension": ".py",
   "mimetype": "text/x-python",
   "name": "python",
   "nbconvert_exporter": "python",
   "pygments_lexer": "ipython3",
   "version": "3.8.3"
  }
 },
 "nbformat": 4,
 "nbformat_minor": 5
}
