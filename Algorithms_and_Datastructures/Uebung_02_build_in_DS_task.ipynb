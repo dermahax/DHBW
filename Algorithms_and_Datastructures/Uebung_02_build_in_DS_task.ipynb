{
 "cells": [
  {
   "cell_type": "markdown",
   "id": "518005bb",
   "metadata": {},
   "source": [
    "# Grundlegende Datenstrukturen in Python, Übung 1\n",
    "\n",
    "## Gruppenmitglieder: (Namen Eintragen)\n",
    "\n",
    "Erlaubte Importe: *random*\n",
    "\n"
   ]
  },
  {
   "cell_type": "markdown",
   "id": "dd470fb8",
   "metadata": {},
   "source": [
    "### 1. Geeignete Datenstrukturen\n",
    "\n",
    "\n",
    "Welche Datenstrukturen sind geeignet um folgende Informationen sinnvoll abzubilden? \n",
    "\n",
    "Optionen: \n",
    "- tuple\n",
    "- list\n",
    "- dict\n",
    "- set\n",
    "\n",
    "**Hinweis 1:** *Alle DHBWs:* {DHBWMannheim, DHBWLoerrach, DHBWKarlsruhe }\n",
    "\n",
    "**Hinweis 2:** *Wählen Sie die Datenstrukturen so, dass alle notwendigen Informationen möglichst einfach und effizient gespeichert werden können. Wenn es mehrere Möglichkeiten gibt, begründen Sie ihre Präferenz.*"
   ]
  },
  {
   "cell_type": "code",
   "execution_count": 1,
   "id": "12934ef1",
   "metadata": {},
   "outputs": [],
   "source": [
    "# a) Geo-Koordinaten, z.B. 47.6175921384363, 7.678328015341984\n",
    "coordinates = None # Ihre Datenstruktur"
   ]
  },
  {
   "cell_type": "markdown",
   "id": "31915652",
   "metadata": {},
   "source": [
    "Begründung:"
   ]
  },
  {
   "cell_type": "code",
   "execution_count": 2,
   "id": "510f2045",
   "metadata": {},
   "outputs": [],
   "source": [
    "# b) Die Namen aller DHBWs (siehe Hinweis 1 oben)\n",
    "all_dhbw_names = None # Ihre Datenstruktur"
   ]
  },
  {
   "cell_type": "markdown",
   "id": "336ee3ee",
   "metadata": {},
   "source": [
    "Begründung:"
   ]
  },
  {
   "cell_type": "code",
   "execution_count": 3,
   "id": "a44e099d",
   "metadata": {},
   "outputs": [],
   "source": [
    "# c) Die Namen aller DHBWs mit ihren Koordinaten (z.B. aus Google Maps)\n",
    "dhbws_with_coordinates = None # Ihre Datenstruktur"
   ]
  },
  {
   "cell_type": "markdown",
   "id": "51d573d7",
   "metadata": {},
   "source": [
    "Begründung:"
   ]
  },
  {
   "cell_type": "code",
   "execution_count": 4,
   "id": "9fc354e7",
   "metadata": {},
   "outputs": [],
   "source": [
    "# d) Die Namen der auswählbaren Studiengänge im Bereich Wirtschaftsinformatik an allen DHBWs (siehe Hinweis oben)\n",
    "it_programmes = None #Ihre Datenstruktur\n"
   ]
  },
  {
   "cell_type": "markdown",
   "id": "6da33c97",
   "metadata": {},
   "source": [
    "Begründung:"
   ]
  },
  {
   "cell_type": "code",
   "execution_count": 5,
   "id": "04b9004c",
   "metadata": {},
   "outputs": [],
   "source": [
    "# e) Die Namen der auswählbaren Studiengänge im Bereich Wirtschaftsinformatik an \n",
    "#    allen DHBWs mit ihren Abkürzungen ( z.b. DataScience = DS)\n",
    "\n",
    "all_business_it_programme_names_with_abbreviations = None #Ihre Datenstruktur"
   ]
  },
  {
   "cell_type": "markdown",
   "id": "a7ae19c1",
   "metadata": {},
   "source": [
    "Begründung:"
   ]
  },
  {
   "cell_type": "markdown",
   "id": "ca012c9f",
   "metadata": {},
   "source": [
    "### 2. Komplexere Datenstrukturen\n",
    "\n",
    "Welche Datenstrukturen sind geeignet um folgende Informationen sinnvoll abzubilden?\n",
    "\n",
    "Optionen: \n",
    "- tuple\n",
    "- list\n",
    "- dict\n",
    "- set\n",
    "\n",
    "**Diesmal ist es erlaubt, Datenstrukturen zu kombinieren**\n",
    "\n",
    "**Hinweis:** *Alle DHBWs:* {DHBWMannheim, DHBWLoerrach, DHBWKarlsruhe }"
   ]
  },
  {
   "cell_type": "code",
   "execution_count": 6,
   "id": "7a16fcd6",
   "metadata": {
    "scrolled": true
   },
   "outputs": [],
   "source": [
    "# a) Alle DHBWs mit ihren WI-Studiengängen und Lat und Long koordinaten\n",
    "\n",
    "all_dhbws_with_programmes_and_coordinates = None #(Ihre Datenstruktur)"
   ]
  },
  {
   "cell_type": "markdown",
   "id": "b0a9f6f5",
   "metadata": {},
   "source": [
    "## 3. Operationen auf Datenstrukturen (abhängig von 2)"
   ]
  },
  {
   "cell_type": "code",
   "execution_count": 7,
   "id": "5a6e46a5",
   "metadata": {},
   "outputs": [],
   "source": [
    "# a) Welche WI Studiengänge kann ich in Mannheim studieren? Die Antwort ist durch auslesen von \n",
    "#    all_dhbws_with_programmes_and_coordinates aus 2a zu bestimmen (ggf ist diese anzupassen)"
   ]
  },
  {
   "cell_type": "code",
   "execution_count": 8,
   "id": "f2e9a199",
   "metadata": {
    "scrolled": true
   },
   "outputs": [],
   "source": [
    "# b) Wie viele WI Studiengänge gibt es an DHBWs? (bestimme aus beliebiger Datenstruktur aus 1) oder 2)"
   ]
  },
  {
   "cell_type": "code",
   "execution_count": 9,
   "id": "5870d50a",
   "metadata": {},
   "outputs": [],
   "source": [
    "# c) gebe die DHBWs sortiert nach Längengrad aus (bestimme aus beliebiger Datenstruktur aus 1) / 2)"
   ]
  },
  {
   "cell_type": "code",
   "execution_count": 10,
   "id": "89296a05",
   "metadata": {},
   "outputs": [],
   "source": [
    "# d) Welche Studiengänge kann man in Lörrach und Karlsruhe studieren (bestimme aus beliebiger Datenstruktur aus 1) / 2). Das Ergebnis muss vollständig und eindeutig sein.\n",
    "\n"
   ]
  },
  {
   "cell_type": "markdown",
   "id": "8c550246",
   "metadata": {},
   "source": [
    "## 4. Mengenoperationen "
   ]
  },
  {
   "cell_type": "code",
   "execution_count": 12,
   "id": "f1ac0962",
   "metadata": {},
   "outputs": [
    {
     "name": "stdout",
     "output_type": "stream",
     "text": [
      "{'a', 'c', 'b'}\n",
      "{'c'}\n",
      "{'b'}\n",
      "{'a', 'b'}\n"
     ]
    }
   ],
   "source": [
    "# a) Folgende Methoden der set Klasse müssen durch Mengenoperatoren (siehe Folien) ersetzt werden\n",
    "\n",
    "s1 = {\"b\", \"c\"}.union({\"c\", \"a\"})\n",
    "\n",
    "print(s1)\n",
    "\n",
    "s2 = {\"b\", \"c\"}.intersection({\"c\", \"a\"})\n",
    "\n",
    "print(s2)\n",
    "\n",
    "s3 = {\"b\",\"c\"}.difference({\"c\", \"a\"})\n",
    "\n",
    "print(s3)\n",
    "\n",
    "s4 = {\"b\",\"c\"}.symmetric_difference({\"c\", \"a\"})\n",
    "\n",
    "print(s4)\n"
   ]
  },
  {
   "cell_type": "code",
   "execution_count": 13,
   "id": "4d5b1990",
   "metadata": {},
   "outputs": [],
   "source": [
    "# b) Welche Variablennamen sind in Python gültig und welche nicht? Benutze Mengen und Mengenoperationen, um das Ergebnis zu ermitteln \n",
    "\n",
    "#Legal variable names:\n",
    "variableNameCandidates = ('myvar','my_var','def','3myvar','myVar','MYVAR','my-var','myvar2','my var',' ','','1337','v@r')\n"
   ]
  },
  {
   "cell_type": "markdown",
   "id": "3197e493",
   "metadata": {},
   "source": [
    "### 5. Einen eigenen Algorithmus entwickeln"
   ]
  },
  {
   "cell_type": "markdown",
   "id": "653d550e",
   "metadata": {},
   "source": [
    "Ab der nächsten Veranstaltung sollen die Studierenden zufällig in Gruppen aufgeteilt werden. Entwickeln Sie eine Funktion, die folgende Inputs erhält: \n",
    "\n",
    "1. **students**: eine Liste mit Namen von Studierenden\n",
    "2. **Veranstalungen**: eine Ganzzahl die angibt, wie viele Gruppenzuordnungen erstellt werden sollen\n",
    "3. **Gruppengröße**: eine Ganzzahl die angibt, wie groß eine Gruppe maximal sein darf\n",
    "\n",
    "Die Funktion soll eine Liste mit Gruppenzuordnungen zurückgeben. Für diese soll folgendes gelten: \n",
    "\n",
    "1. Jeder Studierende muss pro Gruppenzuordnung nur genau einmal in einer Gruppe auftauchen\n",
    "2. Eine Gruppenzuordnung darf im Ergebnis nicht mehrfach auftauchen\n",
    "3. Die Gruppenzuordnung muss zufällig erfolgen\n",
    "\n",
    "\n",
    "Spezifizieren Sie für die Eingabeparameter sinnvolle Datentypen/strukturen und deken Sie daran, die Daten zu validieren, bevor Sie mit der Berechnung beginnen.\n",
    "Sie dürfen die Funktion in mehrere Unterfunktionen aufteilen."
   ]
  },
  {
   "cell_type": "markdown",
   "id": "cd445ef5",
   "metadata": {},
   "source": [
    "Viel Spaß :-)"
   ]
  }
 ],
 "metadata": {
  "kernelspec": {
   "display_name": "Python 3 (ipykernel)",
   "language": "python",
   "name": "python3"
  },
  "language_info": {
   "codemirror_mode": {
    "name": "ipython",
    "version": 3
   },
   "file_extension": ".py",
   "mimetype": "text/x-python",
   "name": "python",
   "nbconvert_exporter": "python",
   "pygments_lexer": "ipython3",
   "version": "3.8.3"
  },
  "vscode": {
   "interpreter": {
    "hash": "d176a51a5502d00ed7b8486de937cece202c71add5470dec5845a7d96f791bb8"
   }
  }
 },
 "nbformat": 4,
 "nbformat_minor": 5
}
